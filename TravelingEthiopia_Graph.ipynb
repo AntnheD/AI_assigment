{
 "cells": [
  {
   "cell_type": "code",
   "execution_count": null,
   "id": "77f75780",
   "metadata": {},
   "outputs": [],
   "source": [
    "from collections import defaultdict"
   ]
  },
  {
   "cell_type": "code",
   "execution_count": null,
   "id": "2b42b390",
   "metadata": {},
   "outputs": [],
   "source": [
    "# Cell 2: Define the GraphBuilder class\n",
    "class GraphBuilder:\n",
    "    def __init__(self):\n",
    "        \"\"\"\n",
    "        Initialize an empty graph as an adjacency list.\n",
    "        \"\"\"\n",
    "        self.graph = defaultdict(list)\n",
    "\n",
    "    def add_edge(self, city1, city2):\n",
    "        \"\"\"\n",
    "        Add an edge between two cities in the graph.\n",
    "        \n",
    "        :param city1: The first city.\n",
    "        :param city2: The second city.\n",
    "        \"\"\"\n",
    "        # Add city2 to city1's neighbors\n",
    "        self.graph[city1].append(city2)\n",
    "        # Add city1 to city2's neighbors (for undirected graphs)\n",
    "        self.graph[city2].append(city1)\n",
    "\n",
    "    def build_graph(self, edges):\n",
    "        \"\"\"\n",
    "        Build the graph from a list of edges.\n",
    "        \n",
    "        :param edges: A list of tuples representing edges between cities.\n",
    "                      Example: [(\"Addis Ababa\", \"Ambo\"), (\"Addis Ababa\", \"Adama\"), ...]\n",
    "        \"\"\"\n",
    "        for city1, city2 in edges:\n",
    "            self.add_edge(city1, city2)\n",
    "\n",
    "    def get_graph(self):\n",
    "        \"\"\"\n",
    "        Return the constructed graph.\n",
    "        \n",
    "        :return: The adjacency list representation of the graph.\n",
    "        \"\"\"\n",
    "        return dict(self.graph)"
   ]
  },
  {
   "cell_type": "code",
   "execution_count": null,
   "id": "d9b08e2f",
   "metadata": {
    "vscode": {
     "languageId": "rust"
    }
   },
   "outputs": [],
   "source": [
    "# Cell 3: Define the edges based on Figure 1\n",
    "edges = [\n",
    "    (\"Addis Ababa\", \"Ambo\"),\n",
    "    (\"Addis Ababa\", \"Adama\"),\n",
    "    (\"Addis Ababa\", \"Debre Birhan\"),\n",
    "    (\"Ambo\", \"Nekemete\"),\n",
    "    (\"Adama\", \"Dire Dawa\"),\n",
    "    (\"Debre Birhan\", \"Dessie\"),\n",
    "    (\"Nekemete\", \"Gimbi\"),\n",
    "    (\"Dire Dawa\", \"Harar\"),\n",
    "    (\"Dessie\", \"Lalibela\"),\n",
    "    (\"Gimbi\", \"Jimma\"),\n",
    "    (\"Harar\", \"Babile\"),\n",
    "    (\"Jimma\", \"Wolkite\"),\n",
    "    (\"Wolkite\", \"Hossana\"),\n",
    "    (\"Hossana\", \"Wolaita\"),\n",
    "    (\"Wolaita\", \"Hawassa\"),\n",
    "    (\"Hawassa\", \"Dilla\"),\n",
    "    (\"Dilla\", \"Sof Oumer\"),\n",
    "    (\"Sof Oumer\", \"Gode\")\n",
    "]"
   ]
  },
  {
   "cell_type": "code",
   "execution_count": null,
   "id": "2305d6b4",
   "metadata": {
    "vscode": {
     "languageId": "rust"
    }
   },
   "outputs": [],
   "source": [
    "# Cell 4: Build the graph\n",
    "builder = GraphBuilder()\n",
    "builder.build_graph(edges)\n",
    "graph = builder.get_graph()\n",
    "\n",
    "# Print the graph\n",
    "print(\"Adjacency List Representation of the Graph:\")\n",
    "graph"
   ]
  },
  {
   "cell_type": "code",
   "execution_count": null,
   "id": "8bf717c0",
   "metadata": {
    "vscode": {
     "languageId": "rust"
    }
   },
   "outputs": [],
   "source": [
    "# Cell 5: Visualize the graph using NetworkX and Matplotlib\n",
    "import networkx as nx\n",
    "import matplotlib.pyplot as plt\n",
    "\n",
    "# Create a graph object\n",
    "G = nx.Graph(graph)\n",
    "\n",
    "# Draw the graph\n",
    "plt.figure(figsize=(12, 8))\n",
    "pos = nx.spring_layout(G, seed=42)  # Position nodes using a spring layout\n",
    "nx.draw(G, pos, with_labels=True, node_size=3000, node_color=\"lightblue\", font_size=10, font_weight=\"bold\")\n",
    "plt.title(\"Graph Representation of Traveling Ethiopia Search Problem\")\n",
    "plt.show()"
   ]
  }
 ],
 "metadata": {
  "language_info": {
   "name": "python"
  }
 },
 "nbformat": 4,
 "nbformat_minor": 5
}
